{
 "cells": [
  {
   "cell_type": "markdown",
   "metadata": {},
   "source": [
    "# Tarea"
   ]
  },
  {
   "cell_type": "markdown",
   "metadata": {},
   "source": [
    "## Introducción"
   ]
  },
  {
   "cell_type": "markdown",
   "metadata": {},
   "source": [
    "En este reporte se expone una implementación del *Sistema MU*, originalmente formulado por Douglas Hofstadter en su libro *Gödel, Escher y Bach*. El *Sistema MU* ilustra cómo hay sistemas formales que pueden estar limitados en su poder demostrativo."
   ]
  },
  {
   "cell_type": "markdown",
   "metadata": {},
   "source": [
    "## Reglas Generales\n",
    "El sistema consiste en una derivación de cadenas, llamadas teoremas, a partir de una cadena que actua como axioma y una serie de reglas de inferencia. Siguiendo el ejercicio de Douglas Hofstadter, quisieramos ver si con estos elementos podemos derivar la cadena 'MU'."
   ]
  },
  {
   "cell_type": "markdown",
   "metadata": {},
   "source": [
    "### Código:\n",
    "\n",
    "Aquí se define el axioma 'MI' y se crean listas para guardar las cadenas *derivadas* a partir de este axioma con las reglas de inferencia y aquellas cadenas que se derivan de estas, y así, sucesivamente."
   ]
  },
  {
   "cell_type": "code",
   "execution_count": 17,
   "metadata": {},
   "outputs": [],
   "source": [
    "ax = 'MI'\n",
    "\n",
    "derived_strings = []\n",
    "non_derived_strings = [ax]\n",
    "all_strings = derived_strings + non_derived_strings"
   ]
  },
  {
   "cell_type": "markdown",
   "metadata": {},
   "source": [
    "Las reglas de inferencia están especificadas en el siguiente bloque."
   ]
  },
  {
   "cell_type": "code",
   "execution_count": 18,
   "metadata": {},
   "outputs": [],
   "source": [
    "def rule1(current_string):\n",
    "    if 'I' == current_string[len(current_string) - 1]:\n",
    "        new_string = current_string + 'U'\n",
    "        return new_string\n",
    "    else:\n",
    "        return ''\n",
    "\n",
    "def rule2(current_string):\n",
    "    if 'M' == current_string[0]:\n",
    "        new_string = current_string + current_string[1:]\n",
    "        return new_string\n",
    "    else:\n",
    "        return ''\n",
    "\n",
    "def rule3(current_string):\n",
    "    if 'III' in current_string:\n",
    "        new_string = current_string.replace('III', 'U')\n",
    "        return new_string\n",
    "    else:\n",
    "        return ''\n",
    "\n",
    "def rule4(current_string):\n",
    "    if 'UU' in current_string:\n",
    "        new_string = current_string.replace('UU', '')\n",
    "        return new_string\n",
    "    else:\n",
    "        return ''"
   ]
  },
  {
   "cell_type": "markdown",
   "metadata": {},
   "source": [
    "En este bloque se crea una función para derivar todas las cadenas nuevas a partir de una cadena en específico y las reglas de inferencia especificadas en el bloque anterior. Estas nuevas cadenas se guardan en las listas del primer bloque."
   ]
  },
  {
   "cell_type": "code",
   "execution_count": 13,
   "metadata": {},
   "outputs": [],
   "source": [
    "def derive_string(current_string):\n",
    "    global all_strings\n",
    "    new_string = rule1(current_string)\n",
    "    if new_string != '' and not(new_string in all_strings):\n",
    "        non_derived_strings.append(new_string)\n",
    "        all_strings = derived_strings + non_derived_strings\n",
    "    new_string = rule2(current_string)\n",
    "    if new_string != '' and not(new_string in all_strings):\n",
    "        non_derived_strings.append(new_string)\n",
    "        all_strings = derived_strings + non_derived_strings\n",
    "    new_string = rule3(current_string)\n",
    "    if new_string != '' and not(new_string in all_strings):\n",
    "        non_derived_strings.append(new_string)\n",
    "        all_strings = derived_strings + non_derived_strings\n",
    "    new_string = rule4(current_string)\n",
    "    if new_string != '' and not(new_string in all_strings):\n",
    "        non_derived_strings.append(new_string)\n",
    "        all_strings = derived_strings + non_derived_strings\n",
    "    non_derived_strings.remove(current_string)\n",
    "    derived_strings.append(current_string)"
   ]
  },
  {
   "cell_type": "markdown",
   "metadata": {},
   "source": [
    "Para hacer una consulta definimos la *cadena objetivo*. El proceso de búsqueda en el espacio de teoremas del sistema formal. Agregamos la restricción de no tener más de 5,000 cadenas derivadas, para evitar que este proceso se acabe la memoria del sistema que lo computa. Estrictamente hablando, si no encuentra la cadena con esta restricción no quiere decir que la cadena no es teorema. Sin embargo, haciendo una simplificación, lo interpretamos de esa manera."
   ]
  },
  {
   "cell_type": "code",
   "execution_count": 19,
   "metadata": {},
   "outputs": [],
   "source": [
    "objective_string = 'MU'"
   ]
  },
  {
   "cell_type": "code",
   "execution_count": 20,
   "metadata": {},
   "outputs": [],
   "source": [
    "while not (objective_string in all_strings or 5000 < len(all_strings)):\n",
    "            if non_derived_strings != '':\n",
    "                derive_string(non_derived_strings[0])\n",
    "            all_strings = derived_strings + non_derived_strings"
   ]
  },
  {
   "cell_type": "code",
   "execution_count": 21,
   "metadata": {},
   "outputs": [
    {
     "name": "stdout",
     "output_type": "stream",
     "text": [
      "No es teorema.\n"
     ]
    }
   ],
   "source": [
    "if objective_string in all_strings:\n",
    "    print(all_strings)\n",
    "else:\n",
    "    print('No es teorema.')"
   ]
  }
 ],
 "metadata": {
  "kernelspec": {
   "display_name": "Python 2",
   "language": "python",
   "name": "python2"
  },
  "language_info": {
   "codemirror_mode": {
    "name": "ipython",
    "version": 2
   },
   "file_extension": ".py",
   "mimetype": "text/x-python",
   "name": "python",
   "nbconvert_exporter": "python",
   "pygments_lexer": "ipython2",
   "version": "2.7.13"
  }
 },
 "nbformat": 4,
 "nbformat_minor": 2
}
