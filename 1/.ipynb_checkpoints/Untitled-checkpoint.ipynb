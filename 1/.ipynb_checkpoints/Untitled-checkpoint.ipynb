{
 "cells": [
  {
   "cell_type": "code",
   "execution_count": 1,
   "metadata": {},
   "outputs": [],
   "source": [
    "ax = 'MI'\n",
    "\n",
    "derived_strings = []\n",
    "non_derived_strings = [ax]"
   ]
  },
  {
   "cell_type": "code",
   "execution_count": null,
   "metadata": {},
   "outputs": [],
   "source": [
    "def rule1(current_string):\n",
    "    if 'I' == current_string[len(current_string) - 1]:\n",
    "        new_string = current_string + 'U'\n",
    "        return new_string\n",
    "    else:\n",
    "        return ''\n",
    "\n",
    "def rule2(current_string):\n",
    "    if 'M' == current_string[0]:\n",
    "        new_string = current_string + current_string[1:]\n",
    "        return new_string\n",
    "    else:\n",
    "        return ''\n",
    "\n",
    "def rule3(current_string):\n",
    "    if 'III' in current_string:\n",
    "        new_string = current_string.replace('III', 'U')\n",
    "        return new_string\n",
    "    else:\n",
    "        return ''\n",
    "\n",
    "def rule4(current_string):\n",
    "    if 'UU' in current_string:\n",
    "        new_string = current_string.replace('UU', '')\n",
    "        return new_string\n",
    "    else:\n",
    "        return ''"
   ]
  }
 ],
 "metadata": {
  "kernelspec": {
   "display_name": "Python 2",
   "language": "python",
   "name": "python2"
  },
  "language_info": {
   "codemirror_mode": {
    "name": "ipython",
    "version": 2
   },
   "file_extension": ".py",
   "mimetype": "text/x-python",
   "name": "python",
   "nbconvert_exporter": "python",
   "pygments_lexer": "ipython2",
   "version": "2.7.13"
  }
 },
 "nbformat": 4,
 "nbformat_minor": 2
}
